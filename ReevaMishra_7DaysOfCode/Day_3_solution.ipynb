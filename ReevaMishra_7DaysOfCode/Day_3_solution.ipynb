{
 "cells": [
  {
   "cell_type": "code",
   "execution_count": null,
   "metadata": {},
   "outputs": [
    {
     "name": "stdout",
     "output_type": "stream",
     "text": [
      "Foo\n",
      "Baz\n",
      "Baz\n",
      "Baz\n",
      "Bar\n",
      "Foo\n",
      "Baz\n",
      "Baz\n",
      "Baz\n",
      "Baz\n",
      "Foo\n"
     ]
    }
   ],
   "source": [
    "def foo_bar_baz(a, b):\n",
    "    for num in range(a, b + 1):\n",
    "        if num % 5 == 0 and num % 7 == 0:\n",
    "            print(\"FooBar\")\n",
    "        elif num % 5 == 0:\n",
    "            print(\"Foo\")\n",
    "        elif num % 7 == 0:\n",
    "            print(\"Bar\")\n",
    "        else:\n",
    "            print(\"Baz\")\n",
    "\n",
    "\n",
    "a, b = map(int, input(\"Enter the range (a b): \").split())\n",
    "\n",
    "\n",
    "if a < b and a >= 0:\n",
    "    foo_bar_baz(a, b)\n",
    "else:\n",
    "    print(\"Invalid input. Ensure 0 <= a < b.\")\n"
   ]
  }
 ],
 "metadata": {
  "kernelspec": {
   "display_name": "Python 3",
   "language": "python",
   "name": "python3"
  },
  "language_info": {
   "codemirror_mode": {
    "name": "ipython",
    "version": 3
   },
   "file_extension": ".py",
   "mimetype": "text/x-python",
   "name": "python",
   "nbconvert_exporter": "python",
   "pygments_lexer": "ipython3",
   "version": "3.11.5"
  }
 },
 "nbformat": 4,
 "nbformat_minor": 2
}
