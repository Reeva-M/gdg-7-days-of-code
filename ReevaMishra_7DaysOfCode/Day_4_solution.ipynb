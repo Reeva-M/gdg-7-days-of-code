{
 "cells": [
  {
   "cell_type": "code",
   "execution_count": 9,
   "metadata": {},
   "outputs": [
    {
     "name": "stdout",
     "output_type": "stream",
     "text": [
      "YES\n",
      "NO\n"
     ]
    }
   ],
   "source": [
    "def check_exam_results(test_cases):\n",
    "    results = []\n",
    "    for case in test_cases:\n",
    "        X, Y, Z = case\n",
    "        total_students = X * Y\n",
    "        if Z > total_students / 2:\n",
    "            results.append(\"YES\")\n",
    "        else:\n",
    "            results.append(\"NO\")\n",
    "    return results\n",
    "\n",
    "\n",
    "# Reading input\n",
    "n = int(input(\"Enter the number of test cases: \"))\n",
    "test_cases = []\n",
    "\n",
    "for _ in range(n):\n",
    "    X, Y, Z = map(int, input(\"Enter X, Y, Z: \").split())\n",
    "    test_cases.append((X, Y, Z))\n",
    "\n",
    "# Processing and output\n",
    "outputs = check_exam_results(test_cases)\n",
    "for output in outputs:\n",
    "    print(output)\n"
   ]
  }
 ],
 "metadata": {
  "kernelspec": {
   "display_name": "Python 3",
   "language": "python",
   "name": "python3"
  },
  "language_info": {
   "codemirror_mode": {
    "name": "ipython",
    "version": 3
   },
   "file_extension": ".py",
   "mimetype": "text/x-python",
   "name": "python",
   "nbconvert_exporter": "python",
   "pygments_lexer": "ipython3",
   "version": "3.11.5"
  }
 },
 "nbformat": 4,
 "nbformat_minor": 2
}
