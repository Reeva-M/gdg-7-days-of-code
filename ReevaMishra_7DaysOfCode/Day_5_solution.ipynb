{
 "cells": [
  {
   "cell_type": "code",
   "execution_count": 4,
   "metadata": {},
   "outputs": [
    {
     "name": "stdout",
     "output_type": "stream",
     "text": [
      "22\n"
     ]
    }
   ],
   "source": [
    "\n",
    "n = int(input(\"Enter the size of the array: \"))\n",
    "\n",
    "A = list(map(int, input(\"Enter the elements of the array: \").split()))\n",
    "\n",
    "if len(A) != n:\n",
    "    print(\"Error: Array size does not match the input size.\")\n",
    "else:\n",
    "    \n",
    "    positive_sum = sum(x for x in A if x > 0)\n",
    "    \n",
    "    \n",
    "    print(positive_sum)\n"
   ]
  }
 ],
 "metadata": {
  "kernelspec": {
   "display_name": "Python 3",
   "language": "python",
   "name": "python3"
  },
  "language_info": {
   "codemirror_mode": {
    "name": "ipython",
    "version": 3
   },
   "file_extension": ".py",
   "mimetype": "text/x-python",
   "name": "python",
   "nbconvert_exporter": "python",
   "pygments_lexer": "ipython3",
   "version": "3.11.5"
  }
 },
 "nbformat": 4,
 "nbformat_minor": 2
}
